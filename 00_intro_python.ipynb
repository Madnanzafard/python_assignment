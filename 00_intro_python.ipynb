{
  "cells": [
    {
      "cell_type": "markdown",
      "metadata": {
        "id": "view-in-github",
        "colab_type": "text"
      },
      "source": [
        "<a href=\"https://colab.research.google.com/github/Madnanzafard/python_assignment/blob/main/00_intro_python.ipynb\" target=\"_parent\"><img src=\"https://colab.research.google.com/assets/colab-badge.svg\" alt=\"Open In Colab\"/></a>"
      ]
    },
    {
      "cell_type": "code",
      "source": [
        "print(\"01_add_two_number\")\n",
        "def main():\n",
        "    print(\"This program is for addation\")\n",
        "    num1 : str = input(\"Enter Your First Number:\")\n",
        "    num1 : int = int(num1)\n",
        "    num2 : str = input(\"Enter Your Second Number\")\n",
        "    num2 : int = int(num2)\n",
        "    total : int =num1 + num2\n",
        "    print(\"The total is:\", total ,\".\")\n",
        "\n",
        "\n",
        "if __name__ == '__main__':\n",
        "    main()"
      ],
      "metadata": {
        "colab": {
          "base_uri": "https://localhost:8080/"
        },
        "id": "r9iWoV3W2tsY",
        "outputId": "0785d4a9-8f3b-4ee3-a04e-e25231868d96"
      },
      "execution_count": 4,
      "outputs": [
        {
          "output_type": "stream",
          "name": "stdout",
          "text": [
            "01_add_two_number\n",
            "This program is for addation\n",
            "Enter Your First Number:4\n",
            "Enter Your Second Number5\n",
            "The total is: 9 .\n"
          ]
        }
      ]
    },
    {
      "cell_type": "code",
      "source": [
        "print(\"02_agreement_bot\")\n",
        "\n",
        "def main():\n",
        "    animal: str = (input(\"What's yours favorite animal?\"))\n",
        "    print(\"My favorite animal is also\", animal)\n",
        "\n",
        "if __name__ == '__main__':\n",
        "    main()"
      ],
      "metadata": {
        "colab": {
          "base_uri": "https://localhost:8080/"
        },
        "id": "h_0g-r2y5ucy",
        "outputId": "cc33db3d-b9d4-4874-a352-a277fa584a89"
      },
      "execution_count": 5,
      "outputs": [
        {
          "output_type": "stream",
          "name": "stdout",
          "text": [
            "02_agreement_bot\n",
            "What's yours favorite animal?horse\n",
            "My favorite animal is also horse\n"
          ]
        }
      ]
    },
    {
      "cell_type": "code",
      "source": [
        "print(\"03_fahrenheit_to_celsius.\")\n",
        "\n",
        "def temp():\n",
        "  degrees_fahrenheit = float(input(\"Enter your fahrenheit degree \"))\n",
        "  degrees_celsius = (degrees_fahrenheit - 32) * 5.0/9.0\n",
        "  print(f'Temperature {degrees_fahrenheit} F = {degrees_celsius} C')\n",
        "\n",
        "if __name__ == '__main__':\n",
        "    temp()\n"
      ],
      "metadata": {
        "colab": {
          "base_uri": "https://localhost:8080/"
        },
        "id": "p2Sh3NBj7Nao",
        "outputId": "be5defd4-4a41-430e-c846-c3f9306343e1"
      },
      "execution_count": 6,
      "outputs": [
        {
          "output_type": "stream",
          "name": "stdout",
          "text": [
            "03_fahrenheit_to_celsius.\n",
            "Enter your fahrenheit degree 78\n",
            "Temperature 78.0 F = 25.555555555555557 C\n"
          ]
        }
      ]
    },
    {
      "cell_type": "code",
      "source": [
        "print('04_how_old_are_they.')\n",
        "def main():\n",
        "    anton : int = 21\n",
        "    beth : int = 6 + anton\n",
        "    chen : int = 20 + beth\n",
        "    drew: int = chen + anton\n",
        "    ethan :int = chen\n",
        "\n",
        "    print(\"Anton is \" + str(anton))\n",
        "    print(\"beth is \" + str(beth))\n",
        "    print(\"Chen is \" + str(chen))\n",
        "    print(\"Drew is \" + str(drew))\n",
        "    print(\"Ethan is \" + str(ethan))\n",
        "\n",
        "\n",
        "if __name__ == '__main__':\n",
        "    main()"
      ],
      "metadata": {
        "colab": {
          "base_uri": "https://localhost:8080/"
        },
        "id": "RQgwSVhV5PVl",
        "outputId": "462de7e6-d282-4a4d-abb9-5ef978084be1"
      },
      "execution_count": 7,
      "outputs": [
        {
          "output_type": "stream",
          "name": "stdout",
          "text": [
            "04_how_old_are_they.\n",
            "Anton is 21\n",
            "beth is 27\n",
            "Chen is 47\n",
            "Drew is 68\n",
            "Ethan is 47\n"
          ]
        }
      ]
    },
    {
      "cell_type": "code",
      "source": [
        "print(\"05_triangle_perimeter \\n\")\n",
        "def main():\n",
        "  side1 : float = float(input(\"What is the length of side 1? \"))\n",
        "  side2 : float = float(input(\"What is the length of side 2? \"))\n",
        "  side3 : float = float(input(\"What is the length of side 3? \"))\n",
        "\n",
        "  print(\"The perimeter of the triangle is \" + str(side1 + side2 + side3))\n",
        "\n",
        "if __name__ == '__main__':\n",
        "    main()"
      ],
      "metadata": {
        "id": "uyVo0Y2f8DWR",
        "outputId": "eb36d1f5-a934-45ce-fb5a-53dcc00ae29a",
        "colab": {
          "base_uri": "https://localhost:8080/"
        }
      },
      "execution_count": 8,
      "outputs": [
        {
          "output_type": "stream",
          "name": "stdout",
          "text": [
            "05_triangle_perimeter \n",
            "\n",
            "What is the length of side 1? 20\n",
            "What is the length of side 2? 15\n",
            "What is the length of side 3? 17\n",
            "The perimeter of the triangle is 52.0\n"
          ]
        }
      ]
    },
    {
      "cell_type": "code",
      "source": [
        "print(\"06_square_number\\n\")\n",
        "\n",
        "def main():\n",
        "  num : float = float(input(\"Type a number to see its square \"))\n",
        "  print(str(num) + \" squared is \" + str(num ** 2))\n",
        "\n",
        "\n",
        "if __name__ == '__main__':\n",
        "    main()"
      ],
      "metadata": {
        "id": "CDmL95tu93f9",
        "outputId": "51b71cf5-273a-40b9-fa49-9c4d02515d1e",
        "colab": {
          "base_uri": "https://localhost:8080/"
        }
      },
      "execution_count": 9,
      "outputs": [
        {
          "output_type": "stream",
          "name": "stdout",
          "text": [
            "06_square_number\n",
            "\n",
            "Type a number to see its square 4\n",
            "4.0 squared is 16.0\n"
          ]
        }
      ]
    }
  ],
  "metadata": {
    "colab": {
      "toc_visible": true,
      "provenance": [],
      "include_colab_link": true
    },
    "kernelspec": {
      "display_name": "Python 3",
      "name": "python3"
    }
  },
  "nbformat": 4,
  "nbformat_minor": 0
}